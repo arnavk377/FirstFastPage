{
 "cells": [
  {
   "attachments": {},
   "cell_type": "markdown",
   "metadata": {},
   "source": [
    "# P4-M 4/24 Big Idea 3\n",
    "> Lesson about Big Idea 3\n",
    "toc: true\n",
    "comments: true\n",
    "layout: base"
   ]
  },
  {
   "attachments": {},
   "cell_type": "markdown",
   "metadata": {},
   "source": [
    "## Introduction: Zeen\n",
    "Hello, my name is zeen and today we will be presenting big idea 3. Our topics include 2d arrays, iteration, and lists and dictionaries.\n",
    "\n",
    "### Objectives\n",
    "Master the concepts of iteration, list, 2d-arrays, Dictionaries, and APIs\n",
    "\n",
    "### Vocab\n",
    "Here is some vocab during the lesson, you should be familar with them already no need for me to read these out, now I will pass the speaking off to Kush\n",
    "\n",
    "\n",
    "\n",
    "- **Iteration**: A process that repates itself\n",
    "- **Array**: Sometimes called a list, can keep strings and intergers inside it\n",
    "- **2D-Array**: A collection of data elements arranged in a grid-like structure with rows and columns\n",
    "- **Mutable**:  the ability to be changed or modified \n",
    "- **Key**: A Singular identifier that is associated with a certin value\n"
   ]
  },
  {
   "attachments": {},
   "cell_type": "markdown",
   "metadata": {},
   "source": [
    "## 1: 2D Array\n",
    "> Tic Tac Toe: Kush Sirohi\n",
    "\n",
    "- What are some examples of 2d Arrays\n",
    "- Some examples of 2D Arrays could include seating arrangements. Additionally, a chess board or a Tic Tac Toe or checkers. \n",
    "- What is a modern day game that could be classified as a 2D array\n",
    "- A modern day game that could be classified as a 2D array is one which is Tic Tac Toe."
   ]
  },
  {
   "attachments": {},
   "cell_type": "markdown",
   "metadata": {},
   "source": [
    "Some examples of 2D Arrays could include seating arrangements. Additionally, a chess board or a Tic Tac Toe or checkers. \n",
    "A modern day game that could be classified as a 2D array is one which is Tic Tac Toe."
   ]
  },
  {
   "cell_type": "code",
   "execution_count": 1,
   "metadata": {},
   "outputs": [
    {
     "name": "stdout",
     "output_type": "stream",
     "text": [
      "This is a normal array: ['Hello', 'Hi', 'Whats up']\n",
      "This is a 2D array\n",
      "['Name', 'ID', 'Age']\n",
      "['Kush', '1', '16']\n",
      "['Finn', '2', '16']\n"
     ]
    }
   ],
   "source": [
    "array = [\"Hello\", \"Hi\", \"Whats up\"]\n",
    "twoDArray = [[\"Name\", \"ID\", \"Age\"], [\"Kush\", \"1\", \"16\"], [\"Finn\", \"2\", \"16\"]]\n",
    "\n",
    "print(f\"This is a normal array: {array}\")\n",
    "\n",
    "print(\"This is a 2D array\")\n",
    "for row in twoDArray:\n",
    "    print(row)"
   ]
  },
  {
   "attachments": {},
   "cell_type": "markdown",
   "metadata": {},
   "source": [
    "## How I used 2D Arrays (game example)\n",
    "- Describe a 2D array in your own words\n",
    "- A 2D array is an array which has 2 arrays and to get an element, you have to list two indices."
   ]
  },
  {
   "attachments": {},
   "cell_type": "markdown",
   "metadata": {},
   "source": [
    "A 2D array is an array which has 2 arrays and to get an element, you have to list two indices."
   ]
  },
  {
   "cell_type": "code",
   "execution_count": null,
   "metadata": {},
   "outputs": [],
   "source": [
    "board = [[' ', ' ', ' '],\n",
    "         [' ', ' ', ' '],\n",
    "         [' ', ' ', ' ']]\n",
    "         \n",
    "# Function to print the current state of the game board\n",
    "def print_board():\n",
    "    print(\"   0   1   2\")\n",
    "    for i in range(3):\n",
    "        print(i, end='  ')\n",
    "        for j in range(3):\n",
    "            print(board[i][j], end=' ')\n",
    "        print()\n",
    "\n",
    "# Function to check if a player has won the game\n",
    "def check_win(player):\n",
    "    # Check rows for a win\n",
    "    for i in range(3):\n",
    "        if board[i][0] == player and board[i][1] == player and board[i][2] == player:\n",
    "            return True\n",
    "    # Check columns for a win\n",
    "    for j in range(3):\n",
    "        if board[0][j] == player and board[1][j] == player and board[2][j] == player:\n",
    "            return True\n",
    "    # Check diagonals for a win\n",
    "    if board[0][0] == player and board[1][1] == player and board[2][2] == player:\n",
    "        return True\n",
    "    if board[0][2] == player and board[1][1] == player and board[2][0] == player:\n",
    "        return True\n",
    "    # If no win condition is met, return False\n",
    "    return False\n",
    "\n",
    "# Function to check if the game is a tie\n",
    "def check_tie():\n",
    "    for i in range(3):\n",
    "        for j in range(3):\n",
    "            if board[i][j] == ' ':\n",
    "                return False\n",
    "    return True\n",
    "\n",
    "# Function to play the game\n",
    "def play_game():\n",
    "    # Initialize player and turn counter\n",
    "    player = 'X'\n",
    "    turns = 0\n",
    "    # Loop until the game is over\n",
    "    while True:\n",
    "        # Print the current state of the board\n",
    "        print_board()\n",
    "        # Get the player’s move\n",
    "        row = int(input(f\"{player}'s turn. Enter row (0-2): \"))\n",
    "        col = int(input(f\"{player}'s turn. Enter column (0-2): \"))\n",
    "        # Check if the move is valid\n",
    "        if board[row][col] == ' ':\n",
    "            board[row][col] = player\n",
    "            turns += 1\n",
    "            # Check if the player has won\n",
    "            if check_win(player):\n",
    "                print_board()\n",
    "                print(f\"{player} wins!\")\n",
    "                return\n",
    "            # Check if the game is a tie\n",
    "            if check_tie():\n",
    "                print_board()\n",
    "                print(\"It's a tie!\")\n",
    "                return\n",
    "            # Switch players\n",
    "            player = 'O' if player == 'X' else 'X'\n",
    "        else:\n",
    "            print(\"That space is already taken. Try again.\")\n",
    "\n",
    "# Start the game\n",
    "play_game()\n"
   ]
  },
  {
   "attachments": {},
   "cell_type": "markdown",
   "metadata": {},
   "source": [
    "## 2: Iteration\n",
    "> Robot Game: Finn Carpenter\n",
    "- What is the defenition of iteration in your own words\n",
    "- Iteration is when a certain set of steps are repeated until a certain condition is met."
   ]
  },
  {
   "attachments": {},
   "cell_type": "markdown",
   "metadata": {},
   "source": [
    "- Iteration is when a certain set of steps are repeated until a certain condition is met."
   ]
  },
  {
   "cell_type": "code",
   "execution_count": null,
   "metadata": {},
   "outputs": [],
   "source": [
    "### Different methods of iteration\n",
    "\n",
    "times = 0\n",
    "numbers = [1, 2, 3, 4, 5]\n",
    "\n",
    "## Loops\n",
    "for i in range(5):\n",
    "    print(\"hi\")\n",
    "\n",
    "\n",
    "while times <= 5:\n",
    "    print(\"hello\")\n",
    "    times = times + 1\n",
    "\n",
    "## Function with a parameters\n",
    "def print_numbers(x):\n",
    "    for num in x:\n",
    "        print(num)\n",
    "\n",
    "print_numbers(numbers)\n",
    "\n"
   ]
  },
  {
   "attachments": {},
   "cell_type": "markdown",
   "metadata": {},
   "source": [
    "## Iteration Game\n",
    "- [Link to the game](https://f1nnc.github.io/Playground/robot)\n",
    "- Play the levels (only play the first 2 in class)\n",
    "- Explain how the game relates to itertation\n",
    "- The game includes iteration because it shows repetition of steps. The program runs until the user input values are met.\n",
    "- What parts of the code use iteration\n",
    "- The parts of the code which include iteration are the for loops. This allows for the steps to be repeated until there is the condition of looper which is set."
   ]
  },
  {
   "attachments": {},
   "cell_type": "markdown",
   "metadata": {},
   "source": [
    "## How I used iteration (game example)\n",
    "- What parts of the code use iteration\n",
    "- "
   ]
  },
  {
   "attachments": {},
   "cell_type": "markdown",
   "metadata": {},
   "source": [
    "The parts of the code which include iteration are the for loops. This allows for the steps to be repeated until there is the condition of looper which is met."
   ]
  },
  {
   "cell_type": "code",
   "execution_count": null,
   "metadata": {
    "vscode": {
     "languageId": "javascript"
    }
   },
   "outputs": [],
   "source": [
    "function run() {\n",
    "    // Read input values from the HTML document and convert them to integers.\n",
    "    UPinput = parseInt(document.getElementById(\"up\").value);\n",
    "    DOWNinput = parseInt(document.getElementById(\"down\").value);\n",
    "    LEFTinput = parseInt(document.getElementById(\"left\").value);\n",
    "    RIGHTinput = parseInt(document.getElementById(\"right\").value);\n",
    "    looper = parseInt(document.getElementById(\"loop\").value);\n",
    "\n",
    "    runner.style.opacity = 0;\n",
    "    \n",
    "\n",
    "    // Create an array to hold the movements.\n",
    "    let movements = [];\n",
    "\n",
    "    // Push 'up' movements to the array.\n",
    "    for (let l = 0; l < looper; l++) {\n",
    "        for (let k = 0; k < UPinput; k++) {\n",
    "            movements.push(up);\n",
    "        }\n",
    "\n",
    "        // Push 'down' movements to the array.\n",
    "        for (let i = 0; i < DOWNinput; i++) {\n",
    "            movements.push(down);\n",
    "        }\n",
    "\n",
    "        // Push 'left' movements to the array.\n",
    "        for (let a = 0; a < LEFTinput; a++) {\n",
    "            movements.push(left);\n",
    "        }\n",
    "\n",
    "        // Push 'right' movements to the array.\n",
    "        for (let c = 0; c < RIGHTinput; c++) {\n",
    "            movements.push(right);\n",
    "        }\n",
    "    }\n",
    "\n",
    "\n",
    "    // Set the initial index to 0 and execute each movement in sequence with a delay of 800 milliseconds.\n",
    "    let index = 0;\n",
    "    let intervalId = setInterval(() => {\n",
    "        // If the end of the movements array has been reached, stop executing movements.\n",
    "        if (index >= movements.length) {\n",
    "            clearInterval(intervalId);\n",
    "            win(); // Call the win function.\n",
    "            return;\n",
    "        }\n",
    "        movements[index](); // Execute the movement at the current index.\n",
    "        index++; // Increment the index.\n",
    "    }, 800);\n",
    "}"
   ]
  },
  {
   "attachments": {},
   "cell_type": "markdown",
   "metadata": {},
   "source": [
    "## 3: List and Dictionaries\n",
    "> Scramble Game: Edwin \n"
   ]
  },
  {
   "cell_type": "code",
   "execution_count": null,
   "metadata": {},
   "outputs": [],
   "source": [
    "# List and Dictonary Example\n",
    "\n",
    "List = [1, 2, 3, 4, 5]\n",
    "Dict = {\n",
    "    1: \"Hi\",\n",
    "    2: \"Hello\",\n",
    "    3: \"Whats Up\"\n",
    "}\n",
    "\n",
    "# Why Do I call 0 for the first thing in a list, but 1 for Dict\n",
    "#\n",
    "\n",
    "print(List[0])\n",
    "print(Dict[1])"
   ]
  },
  {
   "attachments": {},
   "cell_type": "markdown",
   "metadata": {},
   "source": [
    "## How I used a dictonary to make a game\n",
    "> Memory Game: James\n",
    "- [Link](https://f1nnc.github.io/Playground/memory2)\n",
    "- ![Code](https://nighthawkcoders.github.io/APCSP/images/jamescode.png)"
   ]
  },
  {
   "attachments": {},
   "cell_type": "markdown",
   "metadata": {},
   "source": [
    "## How I used List to make a game\n",
    "- Explain which parts of the code use lists\n",
    "- The part of the game which uses a list is the word_list, for storing the words which will be used in the game. Every variable which uses word_list uses the list. So, variables like word and scrambled_word use the word_list, which utilizes a list.\n",
    "- Explain what list manipulation is happening in that part\n",
    "- Random words are selected in the game. So, there is manipulation of the list by selecting one of the indices in the list."
   ]
  },
  {
   "attachments": {},
   "cell_type": "markdown",
   "metadata": {},
   "source": [
    "- The part of the game which uses a list is the word_list, for storing the words which will be used in the game. Every variable which uses word_list uses the list. So, variables like word and scrambled_word use the word_list, which utilizes a list.\n",
    "- Random words are selected in the game. So, there is manipulation of the list by selecting one of the indices in the list."
   ]
  },
  {
   "cell_type": "code",
   "execution_count": 3,
   "metadata": {},
   "outputs": [
    {
     "name": "stdout",
     "output_type": "stream",
     "text": [
      "Unscramble the following Computer Science Word: cnnotfui\n",
      "Congratulations, you unscrambled the word!\n"
     ]
    }
   ],
   "source": [
    "import random\n",
    "\n",
    "word_list = [\"python\", \"computer\", \"programming\", \"algorithm\", \"database\", \"function\", \"variable\", \"loop\", \"iteration\", \"array\", \"mutable\", \"insertion\", \"deletion\", \"key\", \"API\"]\n",
    "\n",
    "word = random.choice(word_list)\n",
    "\n",
    "scrambled_word = \"\".join(random.sample(word, len(word)))\n",
    "\n",
    "print(f\"Unscramble the following Computer Science Word: {scrambled_word}\")\n",
    "\n",
    "hints = 1\n",
    "guesses = 1\n",
    "guess = \"\"\n",
    "\n",
    "while guess != word and guesses <= 4:\n",
    "    guess = input(\"What's the unscrambled word? \").lower()\n",
    "    if guess != word:\n",
    "        print(\"Sorry, that's not the word. Try again!\")\n",
    "        if guesses == 1:\n",
    "            guesses += 1\n",
    "        elif guesses == 2:\n",
    "            print(f\"Hint 1: The first letter of the word is '{word[0]}'\")\n",
    "            guesses += 1\n",
    "        elif guesses == 3:\n",
    "            print(f\"Hint 2: The second letter of the word is '{word[1]}'\")\n",
    "            guesses += 1\n",
    "        else:\n",
    "            print(f\"All 4 Guesses have been used, you didn't unscramble the word, the word was {word}\")\n",
    "            guesses += 1\n",
    "    else:\n",
    "        print(\"Congratulations, you unscrambled the word!\")"
   ]
  },
  {
   "attachments": {},
   "cell_type": "markdown",
   "metadata": {},
   "source": [
    "# Hacks: Your Score/1\n",
    "\n",
    "\n",
    "## General 0.3\n",
    "- Copy this noteboook into your personal fastpages\n",
    "- Answer all questions\n",
    "    - put the question in a new markdown block (so we can grade faster)\n",
    "\n",
    "## Iteration 0.2 (can get up to 0.23)\n",
    "- Get to level 5\n",
    "    - Take ScreenShots of your name inside the box an put them in your ticket\n",
    "- Create a code segment with iteration that does something cool\n",
    "\n",
    "## 2D array 0.2 (can get up to 0.23)\n",
    "- Explain how the tic tac toe game works\n",
    "- Give 3 Examples of games that can be made from 2D arrays\n",
    "\n",
    "## List and Dictionaries 0.2 (can get up to 0.23)\n",
    "- Explain the differences between Lists and Dictionaries\n",
    "- Make a code block that manipulates either a list or a dictionary"
   ]
  },
  {
   "attachments": {},
   "cell_type": "markdown",
   "metadata": {},
   "source": [
    "# Hacks Work\n",
    "\n",
    "## Questions from lessons\n",
    "- What are some examples of 2d Arrays\n",
    "    - Some examples of 2D Arrays could include seating arrangements. Additionally, a chess board or a Tic Tac Toe or checkers. \n",
    "- What is a modern day game that could be classified as a 2D array\n",
    "    - A modern day game that could be classified as a 2D array is one which is Tic Tac Toe.\n",
    "- Describe a 2D array in your own words\n",
    "    - A 2D array is an array which has 2 arrays and to get an element, you have to list two indices.\n",
    "- What is the defenition of iteration in your own words\n",
    "    - Iteration is when a certain set of steps are repeated until a certain condition is met.\n",
    "- Explain how the game relates to itertation\n",
    "    - The game includes iteration because it shows repetition of steps. The program runs until the user input values are met.\n",
    "- What parts of the code use iteration\n",
    "    - The parts of the code which include iteration are the for loops. This allows for the steps to be repeated until there is the condition of looper which is set.\n",
    "- Explain which parts of the code use lists\n",
    "    - The part of the game which uses a list is the word_list, for storing the words which will be used in the game. Every variable which uses word_list uses the list. So, variables like word and scrambled_word use the word_list, which utilizes a list.\n",
    "- Explain what list manipulation is happening in that part\n",
    "    - Random words are selected in the game. So, there is manipulation of the list by selecting one of the indices in the list.\n",
    "\n",
    "## Iteration\n",
    "\n",
    "Here is my work from reaching level 5 of the game and creating some python code\n"
   ]
  },
  {
   "cell_type": "code",
   "execution_count": 6,
   "metadata": {},
   "outputs": [
    {
     "data": {
      "image/png": "[encoded data removed]",
      "text/plain": [
       "<PIL.PngImagePlugin.PngImageFile image mode=RGBA size=1179x773 at 0x7FCC445BF790>"
      ]
     },
     "metadata": {},
     "output_type": "display_data"
    }
   ],
   "source": [
    "from PIL import Image\n",
    "\n",
    "lvl5 = Image.open(\"../images/eoylevel5.png\")\n",
    "display(lvl5)"
   ]
  },
  {
   "cell_type": "code",
   "execution_count": 10,
   "metadata": {},
   "outputs": [
    {
     "name": "stdout",
     "output_type": "stream",
     "text": [
      "Index 0: c\n",
      "Index 1: o\n",
      "Index 2: m\n",
      "Index 3: p\n",
      "Index 4: u\n",
      "Index 5: t\n",
      "Index 6: e\n",
      "Index 7: r\n"
     ]
    }
   ],
   "source": [
    "# Takes a word and prints the index of each of character in the list\n",
    "word = input(\"Type a word\")\n",
    "word = list(word)\n",
    "count = 0\n",
    "# Iteration\n",
    "for i in word:\n",
    "    print(\"Index \"+ str(count) + \": \" + i)\n",
    "    count += 1"
   ]
  },
  {
   "attachments": {},
   "cell_type": "markdown",
   "metadata": {},
   "source": [
    "## 2D Array\n",
    "- Explain how the Tic Tac Toe game works\n",
    "    - The game of Tic Tac Toe works by creating a 2D array with 3 lists in one list. Then, the user selects the position where they would like to place their mark. There need to be 2 numbers input, to choose the row and the column, since there are rows and columns and select which index of the outer list and then the index of the inner list. Then, the program checks if there is a value at the point and will continue to run if there isn't. Finally, after multiple turns have been run, the program checks if there is a row or diagonal completely filled out to see if there is a winner. If not, there is a tie.\n",
    "- Games which can be made from arrays\n",
    "    - Games which can be made from arrays include Chess, Checkers, and Battleship. You could probably also create a Snake game or pretty much any flat, 2D game."
   ]
  },
  {
   "attachments": {},
   "cell_type": "markdown",
   "metadata": {},
   "source": [
    "## Lists and Dictionaries\n",
    "\n",
    "Lists and dictionaries are both ways to store numerous values. Lists store values based on indices, while dictionaries store key-value pairs. This means that dictionaries store 2 values for every one of a list. So, a dictionary will end up taking more space for a list with the same number of indices as key-pairs. Dictionaries will probably have different types of values, like strings, integers, or floats. A list will probably hold values of a uniform type. These are both powerful things which can manage complexity for programmers."
   ]
  },
  {
   "cell_type": "code",
   "execution_count": 11,
   "metadata": {},
   "outputs": [
    {
     "name": "stdout",
     "output_type": "stream",
     "text": [
      "['C', 'C++', 'Java', 'Javascript', 'Python']\n"
     ]
    }
   ],
   "source": [
    "# Sorting a list based on first letter\n",
    "langs = [\"Python\", \"C\", \"C++\", \"Java\", \"Javascript\"]\n",
    "s_langs = sorted(langs)\n",
    "print(s_langs)"
   ]
  },
  {
   "cell_type": "code",
   "execution_count": 12,
   "metadata": {},
   "outputs": [
    {
     "name": "stdout",
     "output_type": "stream",
     "text": [
      "{'Kansas City': 'Chiefs', 'Denver': 'Broncos', 'Las Vegas': 'Raiders'}\n",
      "{'Kansas City': 'Chiefs', 'Denver': 'Broncos', 'Las Vegas': 'Raiders', 'Los Angeles': 'Chargers'}\n"
     ]
    }
   ],
   "source": [
    "# Adding information to lists\n",
    "teams = {\n",
    "    \"Kansas City\": \"Chiefs\",\n",
    "    \"Denver\": \"Broncos\",\n",
    "    \"Las Vegas\": \"Raiders\",\n",
    "}\n",
    "print(teams)\n",
    "teams[\"Los Angeles\"] = \"Chargers\"\n",
    "print(teams)"
   ]
  }
 ],
 "metadata": {
  "kernelspec": {
   "display_name": "base",
   "language": "python",
   "name": "python3"
  },
  "language_info": {
   "codemirror_mode": {
    "name": "ipython",
    "version": 3
   },
   "file_extension": ".py",
   "mimetype": "text/x-python",
   "name": "python",
   "nbconvert_exporter": "python",
   "pygments_lexer": "ipython3",
   "version": "3.9.12"
  },
  "orig_nbformat": 4
 },
 "nbformat": 4,
 "nbformat_minor": 2
}
