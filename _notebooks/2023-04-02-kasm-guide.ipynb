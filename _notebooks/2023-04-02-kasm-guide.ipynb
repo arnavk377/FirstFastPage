{
 "cells": [
  {
   "attachments": {},
   "cell_type": "markdown",
   "metadata": {},
   "source": [
    "#  KASM Guide Notebook\n",
    "> Blogging thoughts and potential guide for KASM.\n",
    "- toc: true\n",
    "- categories: []"
   ]
  },
  {
   "attachments": {},
   "cell_type": "markdown",
   "metadata": {},
   "source": [
    "# Useful Links\n",
    "- [KASM Website](https://www.kasmweb.com/)\n",
    "- [Group Site](https://firestorm0986.github.io/SLAAT/)\n",
    "\n",
    "## Potential Information Sources\n",
    "- [DB Tech YT Video](https://www.youtube.com/watch?v=QHdU4HnseDw)\n",
    "- [Network Chuck YT Video](https://www.youtube.com/watch?v=U7e-mcJdZok&t=16s)\n",
    "- [KASM Documentation](https://kasmweb.com/docs/latest/guide/zones/aws_autoscaling.html)"
   ]
  },
  {
   "attachments": {},
   "cell_type": "markdown",
   "metadata": {},
   "source": [
    "# Notes\n",
    "\n",
    "## What is KASM?\n",
    "KASM is a virtual desktop interface. It uses Docker containers to be able to stream the desktop to a browser site where the user can access it.\n",
    "\n",
    "## Why KASM?\n",
    "Using KASM will allow students to be able to access tools like Visual Studio Code without needing their own personal computer. This would help lower the digital divide and allow students to use school issued chromebooks in APCSP and APCSA.\n",
    "\n",
    "## Relations to Big Idea 4\n",
    "- Data compression\n",
    "- Data transmission\n",
    "- Network Connections\n",
    "- Desktop Interfaces"
   ]
  },
  {
   "attachments": {},
   "cell_type": "markdown",
   "metadata": {},
   "source": [
    "# Guide Draft 1\n",
    "\n",
    "## Step 1\n",
    "- This step creates a swap partition in order to allocate storage to the KASM workspace\n",
    "- This is not necessary for all computers, but will help keep storage cleaner"
   ]
  },
  {
   "cell_type": "code",
   "execution_count": null,
   "metadata": {
    "vscode": {
     "languageId": "perl"
    }
   },
   "outputs": [],
   "source": [
    "sudo fallocate -l 4g /mnt/4GiB.swap\n",
    "sudo chmod 600 /mnt/4GiB.swap\n",
    "sudo mkswap /mnt/4GiB.swap\n",
    "sudo swapon /mnt/4GiB.swap\n",
    "\n",
    "# Verify swap file exists\n",
    "cat /proc/swaps\n",
    "\n",
    "# To make the swap file available on boot\n",
    "echo '/mnt/4GiB.swap swap swap defaults 0 0' | sudo tee -a /etc/fstab"
   ]
  },
  {
   "attachments": {},
   "cell_type": "markdown",
   "metadata": {},
   "source": [
    "## Step 2\n",
    "\n",
    "Downloading KASM onto a directory"
   ]
  },
  {
   "cell_type": "code",
   "execution_count": null,
   "metadata": {
    "vscode": {
     "languageId": "perl"
    }
   },
   "outputs": [],
   "source": [
    "cd /tmp # Rename to directory name\n",
    "sudo wget https://kasm-static-content.s3.amazonaws.com/kasm_release_1.9.0.077388.tar.gz #update to current version\n",
    "tar -xf https://kasm-static-content.s3.amazonaws.com/kasm_release_1.9.0.077388.tar.gz #update to current version\n",
    "sudo bash kasm_release/install.sh\n",
    "\n",
    "# If you want/need to change port 443 to something else, you can do that like this:\n",
    "sudo bash kasm_release/install.sh -L 8084"
   ]
  },
  {
   "attachments": {},
   "cell_type": "markdown",
   "metadata": {},
   "source": [
    "# Hacks\n",
    "\n",
    "- Potentially request team to try hosting their own KASM server(0.6)"
   ]
  },
  {
   "attachments": {},
   "cell_type": "markdown",
   "metadata": {},
   "source": [
    "# Saved Logins\n",
    "\n",
    "Kasm UI Login Credentials\n",
    "\n",
    "------------------------------------\n",
    "  username: admin@kasm.local\n",
    "  password: ywxPtKTo108K3\n",
    "------------------------------------\n",
    "  username: user@kasm.local\n",
    "  password: ueTFP1BlyA6rn\n",
    "------------------------------------\n",
    "\n",
    "Kasm Database Credentials\n",
    "------------------------------------\n",
    "  username: kasmapp\n",
    "  password: OHGXbF2nt0jIBwJCmWdB\n",
    "------------------------------------\n",
    "\n",
    "Kasm Redis Credentials\n",
    "------------------------------------\n",
    "  password: h6DiO5ZTjlnVuJH558GN\n",
    "------------------------------------\n",
    "\n",
    "Kasm Manager Token\n",
    "------------------------------------\n",
    "  password: X6Ld3pcd8fs3ZIh1vzvo\n",
    "------------------------------------\n",
    "\n",
    "Kasm Guac Token\n",
    "------------------------------------\n",
    "  password: yyapdGSzrsNBv7K61NYvsl\n",
    "------------------------------------\n",
    "\n",
    "Service Registration Token\n",
    "------------------------------------\n",
    "  password: 1x9CFN5EkcTpD1hmY4qv\n",
    "------------------------------------"
   ]
  }
 ],
 "metadata": {
  "language_info": {
   "name": "python"
  },
  "orig_nbformat": 4
 },
 "nbformat": 4,
 "nbformat_minor": 2
}
