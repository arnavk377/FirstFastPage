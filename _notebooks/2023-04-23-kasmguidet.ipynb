{
 "cells": [
  {
   "attachments": {},
   "cell_type": "markdown",
   "metadata": {},
   "source": [
    "# KASM on AWS EC2\n",
    "> Guide to deploy KASM on AWS\n",
    "toc: true\n",
    "comments: true\n",
    "layout: base"
   ]
  },
  {
   "attachments": {},
   "cell_type": "markdown",
   "metadata": {},
   "source": [
    "# KASM Information\n",
    "\n",
    "KASM is relatively simple to install for such a powerful software. It allows us to use Docker based containers to complete actions on numerous platforms, from browsing the web on Chrome to running code on VS Code.\n",
    "\n",
    "KASM allows anonymous containers to be accessed from any computer, which will be useful in allowing school chromebooks to run coding applications.\n",
    "\n",
    "KASM is also highly customizable because of its usage of Docker containers. Docker containers can be used to run various applications if a user has created a container. Additionally, KASM can be integrated into browsers to safely open links and webistes. After a user is done with a running container, it will be stopped and there will be no evidence on the web that the container was ever open."
   ]
  },
  {
   "attachments": {},
   "cell_type": "markdown",
   "metadata": {},
   "source": [
    "# Preparing an Instance\n",
    "\n",
    "Before running KASM, there will be a few requirements to set up the AWS Instance. Log in to the AWS interface and select launch instance to begin.\n",
    "\n",
    "## Minimum Requirements\n",
    "The minimum system requirements for KASM are:\n",
    "- 2 CPU Cores\n",
    "- 4 GB Memory\n",
    "- 50 GB Storage\n",
    "- OS must be Ubuntu 22.04 or 20.04\n",
    "<br>\n",
    "These requirements are met by an AWS EC2 **t.2 medium server** and I will be using the OS setup of Ubuntu 22.04. Be sure to ask your teacher for permission before creating a t.2 medium server since these ones are not Free Tier Eligible.\n",
    "\n",
    "![]({{ site.baseurl }}/images/t2setts.png)\n",
    "\n",
    "## System Partition \n",
    "\n",
    "In order to create a KASM instance, there needs to be a partition created. We will create the partition right now. Connect to your console and run the commands below."
   ]
  },
  {
   "cell_type": "code",
   "execution_count": null,
   "metadata": {
    "vscode": {
     "languageId": "plaintext"
    }
   },
   "outputs": [],
   "source": [
    "free -h\n",
    "# Shows Free storage on disk\n",
    "lsblk\n",
    "# Shows partitions and drives"
   ]
  },
  {
   "cell_type": "code",
   "execution_count": null,
   "metadata": {
    "vscode": {
     "languageId": "plaintext"
    }
   },
   "outputs": [],
   "source": [
    "# Result of lsblk\n",
    "NAME     MAJ:MIN RM   SIZE RO TYPE MOUNTPOINTS\n",
    "loop0      7:0    0  24.4M  1 loop /snap/amazon-ssm-agent/6312\n",
    "loop1      7:1    0  63.3M  1 loop /snap/core20/1852\n",
    "loop2      7:2    0  55.6M  1 loop /snap/core18/2714\n",
    "loop3      7:3    0 111.9M  1 loop /snap/lxd/24322\n",
    "loop4      7:4    0  49.8M  1 loop /snap/snapd/18596\n",
    "xvda     202:0    0     8G  0 disk \n",
    "├─xvda1  202:1    0   7.9G  0 part /\n",
    "├─xvda14 202:14   0     4M  0 part \n",
    "└─xvda15 202:15   0   106M  0 part /boot/efi\n",
    "# The xvda drive will be important for us\n",
    "# We will be using a partition in xvda"
   ]
  },
  {
   "attachments": {},
   "cell_type": "markdown",
   "metadata": {},
   "source": [
    "Now, exit out of the console, and navigate to the **volumes tab** for the instance. We will need to modify the volume.\n",
    "\n",
    "![]({{ site.baseurl }}/images/volumen.png)\n",
    "\n",
    "Go to the modify tab and then increase the instance size. KASM needs *at least 50 GB of storage*, so I opted to change my storage to 60 GB from the original 8.\n",
    "\n",
    "![]({{ site.baseurl }}/images/modifyv.png)\n",
    "\n",
    "After that, we can exit the volumes tab and reconnect to the instance.\n",
    "\n",
    "Since we changed the volume, there will be a few commands which we need to run in order to make sure that our instance will run with the change in volume."
   ]
  },
  {
   "cell_type": "code",
   "execution_count": null,
   "metadata": {
    "vscode": {
     "languageId": "plaintext"
    }
   },
   "outputs": [],
   "source": [
    "# Begin here\n",
    "\n",
    "sudo parted -l\n",
    "# Output will ask for a \"Fix/Ignore?\", input \"fix\"\n",
    "# Will fix the instance volume after the change in volume\n",
    "\n",
    "sudo fdisk /dev/xvda # Change xvda if that is not the disk you will be using\n",
    "# This will open the fdisk utility for altering the drive, be careful with the commands entered\n",
    "\n",
    "# Type each of these letters into fdisk\n",
    "n # Creates new partition\n",
    "# For settings, you can just enter through all of them if you would like, which will create a partition in the default name and of maximum size\n",
    "p # Goes over the changes made\n",
    "w # Writes the changes to the disk\n",
    "\n",
    "sudo fdisk -l # shows the changes made to the drive\n",
    "partprobe\n",
    "\n",
    "# Steps to ensure that the swap will stay\n",
    "\n",
    "sudo mkswap /dev/xvda2 # xvda2 is the swap partition, change to your own name if needed\n",
    "# Copy the UUID listed after running the command\n",
    "sudo swapon /dev/xvda2\n",
    "\n",
    "sudo blkid # Will list out a lot of things, get the uuid of the partition which you created\n",
    "\n",
    "# Now we will need to alter fstab to save the partition\n",
    "sudo vi /etc/fstab\n",
    "\n",
    "# Press \"i\" to insert in vi and create a new line to save the swap\n",
    "# Follow this template to save the swap\n",
    "UUID=\"d13a2905-ed9c-4ea8-b35f-4933ba12d1ed\"     none    swap    sw      0 0 # Replace UUID\n",
    "# Press \"esc\" to exit insert mode\n",
    "# Enter \":wq!\" to exit vi editor"
   ]
  },
  {
   "attachments": {},
   "cell_type": "markdown",
   "metadata": {},
   "source": [
    "The swap should be created, so now you can restart your instance in order to check the swap. Run commands like \"free -h\" and \"lsblk\" to confirm."
   ]
  },
  {
   "attachments": {},
   "cell_type": "markdown",
   "metadata": {},
   "source": [
    "## Downloading KASM\n",
    "\n",
    "Now, we can download KASM after our storage has been altered. Connect to your instance and run the following commands."
   ]
  },
  {
   "cell_type": "code",
   "execution_count": null,
   "metadata": {
    "vscode": {
     "languageId": "plaintext"
    }
   },
   "outputs": [],
   "source": [
    "sudo mkdir kasmdir # Makes new directory for kasm\n",
    "cd kasmdir\n",
    "\n",
    "sudo curl -O https://kasm-static-content.s3.amazonaws.com/kasm_release_1.13.0.002947.tar.gz # Will get the zip file for KASM\n",
    "sudo tar -xf kasm_release_1.13.0.002947.tar.gz # Unzips the files\n",
    "sudo bash kasm_release/install.sh -L 8084 # Runs the install script\n",
    "# The \"-L 8084\" specifies a port for the install, which has a default port of 443"
   ]
  },
  {
   "attachments": {},
   "cell_type": "markdown",
   "metadata": {},
   "source": [
    "Save the login credentials which KASM outputs, as you will not be able to access them again. After that, KASM should be installed. However, there are a few steps we must take before we can access the site.\n",
    "\n",
    "## Creating Outbound Rules\n",
    "\n",
    "We will need to go to the Security group of the instance. We will need to add security instances for the ports.\n",
    "\n",
    "Once clicking on the instance, click on the Security tab and go to the security group.\n",
    "\n",
    "![]({{ site.baseurl }}/images/security.png)\n",
    "\n",
    "Now, we have to have some ports which will be able to be accessed. The 22 port is already exposed, but I exposed port 80 with HTTP and the port I included in the install(8084) with a custom TCP.\n",
    "\n",
    "![]({{ site.baseurl }}/images/addingport.png)\n",
    "\n",
    "Now we will be able to access the instance. Go to [Public IP]:[Port] and there should be a KASM desktop waiting for you to log in.\n",
    "\n",
    "# Things to Do on KASM\n",
    "\n",
    "Now that KASM is installed, we have a containerized desktop which we can access from anywhere. We can download different containers in order to meet our needs, like Chrome or VS Code.\n",
    "\n",
    "KASM is very customizable and there are many things which we can do with."
   ]
  },
  {
   "attachments": {},
   "cell_type": "markdown",
   "metadata": {},
   "source": [
    "# Important Links\n",
    "\n",
    "- [KASM Documentation](https://kasmweb.com/docs/latest/index.html)\n",
    "- [Swap Partition on AWS](https://www.youtube.com/watch?v=oHW0quS4pV4&pp=ygUNYXdzIHBhcnRpdGlvbg%3D%3D)\n",
    "- [NetworkChuck YouTube Video on KASM](https://www.youtube.com/watch?v=U7e-mcJdZok&t=920s&pp=ygURbmV0d29ya2NodWNrIGthc20%3D)"
   ]
  }
 ],
 "metadata": {
  "language_info": {
   "name": "python"
  },
  "orig_nbformat": 4
 },
 "nbformat": 4,
 "nbformat_minor": 2
}
