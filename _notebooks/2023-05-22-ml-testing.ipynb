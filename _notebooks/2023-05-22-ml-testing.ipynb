{
 "cells": [
  {
   "attachments": {},
   "cell_type": "markdown",
   "metadata": {},
   "source": [
    "# Testing ML\n",
    "> Quick launch into Variables, Functions, Arrays, Classes, HTML.\n",
    "\n",
    "- layout: default"
   ]
  },
  {
   "cell_type": "code",
   "execution_count": 18,
   "metadata": {},
   "outputs": [
    {
     "name": "stdout",
     "output_type": "stream",
     "text": [
      " * Serving Flask app '__main__'\n",
      " * Debug mode: off\n"
     ]
    },
    {
     "name": "stderr",
     "output_type": "stream",
     "text": [
      "WARNING: This is a development server. Do not use it in a production deployment. Use a production WSGI server instead.\n",
      " * Running on http://127.0.0.1:5003\n",
      "Press CTRL+C to quit\n",
      "127.0.0.1 - - [22/May/2023 13:55:09] \"GET /classify HTTP/1.1\" 405 -\n",
      "127.0.0.1 - - [22/May/2023 13:55:10] \"GET /favicon.ico HTTP/1.1\" 404 -\n",
      "127.0.0.1 - - [22/May/2023 13:56:15] \"GET /classify HTTP/1.1\" 405 -\n",
      "127.0.0.1 - - [22/May/2023 13:56:22] code 400, message Bad request version ('\\x9a\\x9a\\x13\\x01\\x13\\x02\\x13\\x03À+À/À,À0Ì©Ì¨À\\x13À\\x14\\x00\\x9c\\x00\\x9d\\x00/\\x005\\x01\\x00\\x01\\x93')\n",
      "127.0.0.1 - - [22/May/2023 13:56:22] \"\u0016\u0003\u0001\u0002\u0000\u0001\u0000\u0001ü\u0003\u0003Ú²*ê\u0005\u001b9-\u0001îÒ0ÝÜdD\t3·õÏW±Ï@8¼ªÖÒ \u0002Pª*|²´éI\u0013aÃf\u000b\u001d!ô\fõYdóÿ'²Bã¹3?ô\u0000 \u0013\u0001\u0013\u0002\u0013\u0003À+À/À,À0Ì©Ì¨À\u0013À\u0014\u0000\u0000\u0000/\u00005\u0001\u0000\u0001\" 400 -\n",
      "127.0.0.1 - - [22/May/2023 13:56:22] code 400, message Bad request version ('ÄPj»$Di\\x00\\x05\\x00\\x03\\x02h2\\x00')\n",
      "\u0000\u0014\u0000\u0012\u0004\u0004\u0004\u0001\u0005\u0005\u0005\u0006\u0006\u0001\u0002\u0001\u00003\u0000+\u0000)ÊÊ\u0000\u0001\u0000\u0000\u001d\u0000 ä#õ\u000ewå¬m\u0005è;èôw\u0007|r6ªk²ð\u001dÄPj»$Di\u0000\u0005\u0000\u0003\u0002h2\u0000á\u0003Æ·ÔI ø|¬¶çJºÐº\u001c+¶\u000f[wBgù}-ok%,¡JK»ú\u0000 jj\u0013\u0001\u0013\u0002\u0013\u0003À+À/À,À0Ì©Ì¨À\u0013À\u0014\u0000\u0000\u0000/\u00005\u0001\u0000\u0001jj\u0000\u0000\u0000\u0012\u0000\u0000\u0000-\u0000\u0002\u0001\u0001\u0000+\u0000\u0007\u0006**\u0003\u0004\u0003\u0003\u0000\u001b\u0000\u0003\u0002\u0000\u0002\u0000\u0010\u0000\u000e\u0000\f\u0002hhttp/1.1\u0000\u000b\u0000\u0002\u0001\u0000\u0000\u0005\u0000\u0005\u0001\u0000\u0000\u0000\u0000\u0000\u0017\u0000\u0000ÿ\u0001\u0000\u0001\u0000\u0000\" 400 -\n"
     ]
    }
   ],
   "source": [
    "import os\n",
    "from flask import Flask, jsonify, request\n",
    "from PIL import Image\n",
    "import torch\n",
    "from torchvision import models, transforms\n",
    "import certifi\n",
    "\n",
    "app = Flask(__name__)\n",
    "\n",
    "os.environ['SSL_CERT_FILE'] = certifi.where()\n",
    "# Load the pre-trained model\n",
    "model = models.resnet50(pretrained=True)\n",
    "model.eval()\n",
    "\n",
    "# Define the image transformation\n",
    "transform = transforms.Compose([\n",
    "    transforms.Resize((224, 224)),\n",
    "    transforms.ToTensor(),\n",
    "    transforms.Normalize(mean=[0.485, 0.456, 0.406], std=[0.229, 0.224, 0.225])\n",
    "])\n",
    "\n",
    "# Define the pre-set tags\n",
    "pre_set_tags = [\"cat\", \"dog\", \"flower\"]\n",
    "\n",
    "@app.route('/classify', methods=['POST'])\n",
    "def classify_image():\n",
    "    # Check if an image file was sent\n",
    "    if 'image' not in request.files:\n",
    "        return jsonify({'error': 'No image file provided'})\n",
    "\n",
    "    image_file = request.files['image']\n",
    "\n",
    "    # Load the image and apply transformations\n",
    "    image = Image.open(image_file)\n",
    "    image = transform(image)\n",
    "    image = image.unsqueeze(0)\n",
    "\n",
    "    # Make predictions\n",
    "    with torch.no_grad():\n",
    "        output = model(image)\n",
    "\n",
    "    # Get the predicted tag with the highest probability\n",
    "    _, predicted_idx = torch.max(output, 1)\n",
    "    predicted_tag = pre_set_tags[predicted_idx.item()]\n",
    "\n",
    "    # Return the predicted tag\n",
    "    return jsonify({'tag': predicted_tag})\n",
    "\n",
    "\n",
    "if __name__ == '__main__':\n",
    "    # Set the path to the CA certificate bundle file\n",
    "\n",
    "    # Run the app with SSL certificate verification\n",
    "    app.run(port=5003)\n"
   ]
  }
 ],
 "metadata": {
  "kernelspec": {
   "display_name": "Python 3",
   "language": "python",
   "name": "python3"
  },
  "language_info": {
   "codemirror_mode": {
    "name": "ipython",
    "version": 3
   },
   "file_extension": ".py",
   "mimetype": "text/x-python",
   "name": "python",
   "nbconvert_exporter": "python",
   "pygments_lexer": "ipython3",
   "version": "3.11.2"
  },
  "orig_nbformat": 4
 },
 "nbformat": 4,
 "nbformat_minor": 2
}
