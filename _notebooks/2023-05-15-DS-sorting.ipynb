{
 "cells": [
  {
   "attachments": {},
   "cell_type": "markdown",
   "metadata": {},
   "source": [
    "# Sorting Algorithms\n",
    "> Working with Data Structures and manipulating data.\n",
    "\n",
    "- toc: true\n",
    "- categories: []"
   ]
  },
  {
   "attachments": {},
   "cell_type": "markdown",
   "metadata": {},
   "source": [
    "[wget link](https://raw.githubusercontent.com/nighthawkcoders/APCSP/master/_notebooks/2023-05-15-DS-sorting.ipynb)"
   ]
  },
  {
   "cell_type": "code",
   "execution_count": 5,
   "metadata": {},
   "outputs": [
    {
     "name": "stdout",
     "output_type": "stream",
     "text": [
      "Random List\n",
      "[25, 1, 98, 90, 99, 48, 25, 35, 44, 76]\n",
      "Sorted List\n",
      "[1, 25, 25, 35, 44, 48, 76, 90, 98, 99]\n"
     ]
    }
   ],
   "source": [
    "import random\n",
    "\n",
    "numbers = []\n",
    "for i in range(10):\n",
    "    numbers.append(random.randint(0,100))\n",
    "print(\"Random List\")\n",
    "print(numbers)\n",
    "print(\"Sorted List\")\n",
    "numbers = sorted(numbers)\n",
    "print(numbers)"
   ]
  },
  {
   "attachments": {},
   "cell_type": "markdown",
   "metadata": {},
   "source": [
    "# Warm Up\n",
    "\n",
    "> Discuss with a partner... \n",
    "What are some strategies you would use to sort this list? (Don't worry about writing code for now)\n",
    "- Put the list in order\n",
    "- Could be ascending or descending order\n",
    "- Find smallest value and put it at one end and then continue"
   ]
  },
  {
   "attachments": {},
   "cell_type": "markdown",
   "metadata": {},
   "source": [
    "# Explore\n",
    "\n",
    "Get into groups of 3\n",
    "\n",
    "We will be focusing on 4 algorithms today.\n",
    "\n",
    "We will look at the first one together, Bubble Sort\n",
    "\n",
    "\n",
    "What is happening with this sort?\n",
    "- In this sort, the algorithm checks each value and moves the largest value to the right. It keeps on moving the value until there is a value which is not greater than the values on the right.\n",
    "- This sorts based on largest value, moving them towards the right side.\n",
    "\n",
    "In your groups you will each choose to be an expert on a sorting algorithm. Merge, Selection, and Insertion.\n",
    "Take about 5 minutes to read about your algorithm (Geek for Geeks linked below) and be ready to explain it to your other group members. \n",
    "\n",
    "[Merge](https://www.geeksforgeeks.org/merge-sort/#)\n",
    "\n",
    "[Selection](https://www.geeksforgeeks.org/selection-sort/)\n",
    "\n",
    "[Insertion](https://www.geeksforgeeks.org/insertion-sort/)"
   ]
  },
  {
   "attachments": {},
   "cell_type": "markdown",
   "metadata": {},
   "source": [
    "## Practice\n",
    "\n",
    "[75, 17, 46, 80, 67, 45, 69, 79, 40, 0]\n",
    "\n",
    "How would you sort this list with... \n",
    "- Bubble Sort\n",
    "    - Bubble sort works by switching elements of a list which are right next to each other. It starts with the first two indices and then keeps on moving up until the last index of the list is the greatest. This repeats until the entire list is sorted. In this case, 75 and 17 are first compared and swaps the position of 17 and 75. The list keeps on moving with 75, until a greater value is found, swapping the larger value index number with the smaller number index number. This steps repeats until the list is in order.\n",
    "- Selection Sort\n",
    "    - In selection sort, the first value is set to be the smallest value. The algorithm goes through the entire list and checks for the smallest value. If one is found, it is set as the minimum value and the index numbers are swapped, putting the smallest one at index 1. The list keeps on repeating for every index, finding where each element would go. This list would set 75 as the minimum value and then check for the smallest one in the list, which would be 0, repeating until the list is in order.\n",
    "> Explain.\n",
    "\n",
    "[88, 39, 53, 39, 58, 43, 74, 81, 71, 51]\n",
    "\n",
    "How would you sort this list with... \n",
    "- Merge Sort\n",
    "    - Merge sort works by splitting the list into shorter lists and sorting these shorter lists and then merging together and sorting the final list. First of all, the list is divided into smaller lists until the sublist has 1 or fewer elements in it. Then for each sublist, the elements are sorted. Finally, the smaller lists are merged and sorted finally to produce the original list in a sorted form. For this example, the list would first be split into parts of [88, 39, 53, 39, 58] and [43, 74, 81, 71, 51], then split up some more until there is one index or less in the sublists. Then, these sublists are sorted and then merged to get the final sorted list.\n",
    "- Insertion Sort\n",
    "    - The insertion sort checks a sorted part of a list with an unsorted element and then inserts the element in the correct place. Insertion sort first assumes that the first element of the list is sorted and then checks the following element to add to the \"sorted\" list. For this case, it would start at 88 and assume 88 is sorted and then check whether 39 should go after or before 39. This keeps on repeating until the entire list is sorted.\n",
    "> Explain.\n"
   ]
  },
  {
   "attachments": {},
   "cell_type": "markdown",
   "metadata": {},
   "source": [
    "# Sorting Words\n",
    "> Sorting strings works in the same way as integers. Using your expertise algorithm, sort the following list of random words."
   ]
  },
  {
   "cell_type": "code",
   "execution_count": 3,
   "metadata": {},
   "outputs": [
    {
     "name": "stderr",
     "output_type": "stream",
     "text": [
      "[nltk_data] Downloading package words to /Users/poonam/nltk_data...\n",
      "[nltk_data]   Package words is already up-to-date!\n"
     ]
    },
    {
     "name": "stdout",
     "output_type": "stream",
     "text": [
      "Random List\n",
      "['rookish', 'concretize', 'churm', 'unspring', 'angrite', 'polygam', 'gayal', 'Onchidium', 'antitheft', 'awkwardness']\n",
      "['Onchidium', 'angrite', 'antitheft', 'awkwardness', 'churm', 'concretize', 'gayal', 'polygam', 'rookish', 'unspring']\n"
     ]
    }
   ],
   "source": [
    "import nltk\n",
    "import random\n",
    "\n",
    "nltk.download('words')  # Download the word list (only required once)\n",
    "\n",
    "from nltk.corpus import words\n",
    "\n",
    "english_words = words.words()\n",
    "#print(len(english_words))  # Prints the number of words in the list\n",
    "# You can now use the 'english_words' list in your code\n",
    "def selection_sort(strings):\n",
    "    for i in range(len(strings)):\n",
    "        min_idx = i\n",
    "        for j in range(i + 1, len(strings)):\n",
    "            if strings[j] < strings[min_idx]:\n",
    "                min_idx = j\n",
    "        strings[i], strings[min_idx] = strings[min_idx], strings[i]\n",
    "    return strings\n",
    "\n",
    "\n",
    "words = []\n",
    "for i in range(10):\n",
    "    words.append(english_words[random.randint(0,len(english_words))])\n",
    "print(\"Random List\")\n",
    "print(words)\n",
    "print(selection_sort(words))"
   ]
  },
  {
   "attachments": {},
   "cell_type": "markdown",
   "metadata": {},
   "source": [
    "## Discuss \n",
    "Answer the following with your group.\n",
    "\n",
    "- When should you use each algorithm? What makes an algorithm the right choice?\n",
    "- Given the following lists...\n",
    "    - [0, 2, 6, 4, 8, 10]\n",
    "    - [Elephant, Banana, Cat, Dog, Apple]\n",
    "    - [29, 13, 83, 47, 32, 78, 100, 60, 65, 15, 24, 9, 40, 68, 53, 8, 90, 58, 39, 32, 34, 91, 74, 94, 49, 87, 34, 87, 23, 17, 27, 2, 38, 58, 84, 15, 9, 46, 74, 40, 44, 8, 55, 28, 81, 92, 81, 88, 53, 38, 19, 21, 9, 54, 21, 67, 3, 41, 3, 74, 13, 71, 70, 45, 5, 36, 80, 64, 97, 86, 73, 74, 94, 79, 49, 32, 20, 68, 64, 69, 1, 77, 31, 56, 100, 80, 48, 75, 85, 93, 67, 57, 26, 56, 43, 53, 59, 28, 67, 50]\n",
    "Select the algorithm you believe is best for each, explain."
   ]
  },
  {
   "attachments": {},
   "cell_type": "markdown",
   "metadata": {},
   "source": [
    "## HACKS\n",
    "> Provided below is a Bubble Sort Algorithm sorting a list of dictionaries based off of selected key.\n",
    "\n",
    "- Now it's time to do some coding...\n",
    "\n",
    "- Run code and then research and answer these questions...\n",
    "    - Is a list and/or dictionary in python considered a primitive or collection type?  Why?\n",
    "        - Lists and dictionaries are considered to be collection types in python. This is because lists and dictionaries can store multiple values of data in them, while primitives hold only one specific piece. Lists hold multiple elements and dictionaries hold multiple key-value pairs.\n",
    "    - Is the list passed into bubble sort \"pass-by-value\" or \"pass-by-reference? Describe why in relation to output.\n",
    "        - This code is pass-by-reference. This is because the bubble sort algorithm will alter the actual list, thanks to the swap code. This is seen by the output as the original list is changed based on the key sorted by, and the sorted list is not separate from the original list.\n",
    "\n",
    "- Implement new cell(s) and/or organize cells to do the following.\n",
    "    - Create your own list\n",
    "    - Use your expertise sorting algorithm (selection, insertion, merge). Note, I got my bubble sort from Geek for Geeks and made modifications. Each student in a group should have a unique algorithm.\n",
    "    - Test your list with my bubble sort\n",
    "    - Test my list with your new sort\n",
    "    - Research analysis on sorting: comparisons, swaps, time.  Build this into your hacks.\n",
    "    - Find a better way to print the data, key first, then other elements in viewable form.\n",
    "\n",
    "Use the code below to help guide your adventure"
   ]
  },
  {
   "cell_type": "code",
   "execution_count": 7,
   "metadata": {},
   "outputs": [
    {
     "name": "stdout",
     "output_type": "stream",
     "text": [
      "Original\n",
      "[{'name': 'Risa', 'age': 18, 'city': 'New York'}, {'name': 'John', 'age': 63, 'city': 'Eugene'}, {'name': 'Shekar', 'age': 18, 'city': 'San Francisco'}, {'name': 'Ryan', 'age': 21, 'city': 'Los Angeles'}]\n",
      "name\n",
      "Team Name: John, Age: None, City of Residence: Eugene\n",
      "Team Name: Risa, Age: None, City of Residence: New York\n",
      "Team Name: Ryan, Age: None, City of Residence: Los Angeles\n",
      "Team Name: Shekar, Age: None, City of Residence: San Francisco\n",
      "age\n",
      "Team Name: Risa, Age: None, City of Residence: New York\n",
      "Team Name: Shekar, Age: None, City of Residence: San Francisco\n",
      "Team Name: Ryan, Age: None, City of Residence: Los Angeles\n",
      "Team Name: John, Age: None, City of Residence: Eugene\n",
      "city\n",
      "Team Name: John, Age: None, City of Residence: Eugene\n",
      "Team Name: Ryan, Age: None, City of Residence: Los Angeles\n",
      "Team Name: Risa, Age: None, City of Residence: New York\n",
      "Team Name: Shekar, Age: None, City of Residence: San Francisco\n"
     ]
    }
   ],
   "source": [
    "\"\"\"\n",
    "* Creator: Nighthawk Coding Society\n",
    "Bubble Sort of a List with optimizations\n",
    "\"\"\"\n",
    "\n",
    "# bubble sorts a list of dictionaries, base off of provided key\n",
    "def bubbleSort(list, key):\n",
    "    n = len(list) - 1  # list are indexed 0 to n-1, len is n\n",
    "    \n",
    "    # Traverse through list with i index\n",
    "    for i in range(n):\n",
    "        swapped = False  # optimize code, so it exits if now swaps on inner loop\n",
    "\n",
    "        # Inner traversal using j index\n",
    "        for j in range(n-i):  # n-i as positions on right are in order in bubble\n",
    " \n",
    "            # Swap if the element KeyN is greater KeyN1\n",
    "            keyN = list[j].get(key)\n",
    "            keyN1 = list[j+1].get(key)\n",
    "            if keyN > keyN1:\n",
    "                swapped = True\n",
    "                list[j], list[j + 1] = list[j + 1], list[j]  # single line swap\n",
    "         \n",
    "        if not swapped:  # if no swaps on inner pass, list is sorted\n",
    "            return  # exit function\n",
    "    \n",
    "\n",
    "if __name__ == \"__main__\":\n",
    "    # list/dictionary sample\n",
    "    list_of_people = [\n",
    "    {\"name\": \"Risa\", \"age\": 18, \"city\": \"New York\"},\n",
    "    {\"name\": \"John\", \"age\": 63, \"city\": \"Eugene\"},\n",
    "    {\"name\": \"Shekar\", \"age\": 18, \"city\": \"San Francisco\"},\n",
    "    {\"name\": \"Ryan\", \"age\": 21, \"city\": \"Los Angeles\"}\n",
    "    ]\n",
    "    \n",
    "    # assuming uniform keys, pick 1st row as source of keys\n",
    "    key_row = list_of_people[0]\n",
    "\n",
    "    # print list as defined\n",
    "    print(\"Original\")\n",
    "    print(list_of_people)\n",
    "    \n",
    "    for key in key_row:  # finds each key in the row\n",
    "        print(key)\n",
    "        bubbleSort(list_of_people, key)  # sort list of people\n",
    "        for item in list_of_people:\n",
    "            print(f\"Team Name: {item.get('name')}, Age: {item.get('Age')}, City of Residence: {item.get('city')}\")"
   ]
  },
  {
   "cell_type": "code",
   "execution_count": 2,
   "metadata": {},
   "outputs": [
    {
     "name": "stdout",
     "output_type": "stream",
     "text": [
      "Original Dictionary\n",
      "[{'name': 'Patriots', 'city': 'New England', 'SB Wins': 6}, {'name': 'Seahawks', 'city': 'Seattle', 'SB Wins': 1}, {'name': 'Chiefs', 'city': 'Kansas City', 'SB Wins': 3}, {'name': 'Texans', 'city': 'Houston', 'SB Wins': 0}]\n",
      "name\n",
      "Team Name: Chiefs, City: Kansas City, Super Bowl Wins: 3\n",
      "Team Name: Patriots, City: New England, Super Bowl Wins: 6\n",
      "Team Name: Seahawks, City: Seattle, Super Bowl Wins: 1\n",
      "Team Name: Texans, City: Houston, Super Bowl Wins: 0\n",
      "city\n",
      "Team Name: Texans, City: Houston, Super Bowl Wins: 0\n",
      "Team Name: Chiefs, City: Kansas City, Super Bowl Wins: 3\n",
      "Team Name: Patriots, City: New England, Super Bowl Wins: 6\n",
      "Team Name: Seahawks, City: Seattle, Super Bowl Wins: 1\n",
      "SB Wins\n",
      "Team Name: Texans, City: Houston, Super Bowl Wins: 0\n",
      "Team Name: Seahawks, City: Seattle, Super Bowl Wins: 1\n",
      "Team Name: Chiefs, City: Kansas City, Super Bowl Wins: 3\n",
      "Team Name: Patriots, City: New England, Super Bowl Wins: 6\n"
     ]
    }
   ],
   "source": [
    "def insertionSort(list, key):\n",
    "    n = len(list)\n",
    "\n",
    "    for i in range(1, n):\n",
    "        current = list[i]  \n",
    "        j = i - 1\n",
    "\n",
    "        while j >= 0 and list[j].get(key) > current.get(key):\n",
    "            list[j + 1] = list[j]\n",
    "            j -= 1\n",
    "\n",
    "        list[j + 1] = current\n",
    "\n",
    "    return list\n",
    "\n",
    "    \n",
    "\n",
    "if __name__ == \"__main__\":\n",
    "    list_of_teams = [\n",
    "    {\"name\": \"Patriots\", \"city\": \"New England\", \"SB Wins\": 6},\n",
    "    {\"name\": \"Seahawks\", \"city\": \"Seattle\", \"SB Wins\": 1},\n",
    "    {\"name\": \"Chiefs\", \"city\": \"Kansas City\", \"SB Wins\": 3},\n",
    "    {\"name\": \"Texans\", \"city\": \"Houston\", \"SB Wins\": 0}\n",
    "    ]\n",
    "\n",
    "    row_key = list_of_teams[0]\n",
    "\n",
    "    print(\"Original Dictionary\")\n",
    "    print(list_of_teams)\n",
    "\n",
    "    for key in row_key:\n",
    "        print(key)\n",
    "        insertionSort(list_of_teams, key)\n",
    "        for item in list_of_teams:\n",
    "            print(f\"Team Name: {item.get('name')}, City: {item.get('city')}, Super Bowl Wins: {item.get('SB Wins')}\")\n",
    "        "
   ]
  },
  {
   "cell_type": "code",
   "execution_count": 5,
   "metadata": {},
   "outputs": [
    {
     "name": "stdout",
     "output_type": "stream",
     "text": [
      "Original Dictionary\n",
      "[{'name': 'Patriots', 'city': 'New England', 'SB Wins': 6}, {'name': 'Seahawks', 'city': 'Seattle', 'SB Wins': 1}, {'name': 'Chiefs', 'city': 'Kansas City', 'SB Wins': 3}, {'name': 'Texans', 'city': 'Houston', 'SB Wins': 0}]\n",
      "name\n",
      "Team Name: Chiefs, City: Kansas City, Super Bowl Wins: 3\n",
      "Team Name: Patriots, City: New England, Super Bowl Wins: 6\n",
      "Team Name: Seahawks, City: Seattle, Super Bowl Wins: 1\n",
      "Team Name: Texans, City: Houston, Super Bowl Wins: 0\n",
      "city\n",
      "Team Name: Texans, City: Houston, Super Bowl Wins: 0\n",
      "Team Name: Chiefs, City: Kansas City, Super Bowl Wins: 3\n",
      "Team Name: Patriots, City: New England, Super Bowl Wins: 6\n",
      "Team Name: Seahawks, City: Seattle, Super Bowl Wins: 1\n",
      "SB Wins\n",
      "Team Name: Texans, City: Houston, Super Bowl Wins: 0\n",
      "Team Name: Seahawks, City: Seattle, Super Bowl Wins: 1\n",
      "Team Name: Chiefs, City: Kansas City, Super Bowl Wins: 3\n",
      "Team Name: Patriots, City: New England, Super Bowl Wins: 6\n"
     ]
    }
   ],
   "source": [
    "if __name__ == \"__main__\":\n",
    "    list_of_teams = [\n",
    "    {\"name\": \"Patriots\", \"city\": \"New England\", \"SB Wins\": 6},\n",
    "    {\"name\": \"Seahawks\", \"city\": \"Seattle\", \"SB Wins\": 1},\n",
    "    {\"name\": \"Chiefs\", \"city\": \"Kansas City\", \"SB Wins\": 3},\n",
    "    {\"name\": \"Texans\", \"city\": \"Houston\", \"SB Wins\": 0}\n",
    "    ]\n",
    "\n",
    "    rowkey = list_of_teams[0]\n",
    "\n",
    "    print(\"Original Dictionary\")\n",
    "    print(list_of_teams)\n",
    "\n",
    "    for key in rowkey:\n",
    "        print(key)\n",
    "        bubbleSort(list_of_teams, key)\n",
    "        for item in list_of_teams:\n",
    "            print(f\"Team Name: {item.get('name')}, City: {item.get('city')}, Super Bowl Wins: {item.get('SB Wins')}\")\n",
    "        "
   ]
  },
  {
   "cell_type": "code",
   "execution_count": 9,
   "metadata": {},
   "outputs": [
    {
     "name": "stdout",
     "output_type": "stream",
     "text": [
      "Original\n",
      "[{'name': 'Risa', 'age': 18, 'city': 'New York'}, {'name': 'John', 'age': 63, 'city': 'Eugene'}, {'name': 'Shekar', 'age': 18, 'city': 'San Francisco'}, {'name': 'Ryan', 'age': 21, 'city': 'Los Angeles'}]\n",
      "name\n",
      "Team Name: John, Age: None, City of Residence: Eugene\n",
      "Team Name: Risa, Age: None, City of Residence: New York\n",
      "Team Name: Ryan, Age: None, City of Residence: Los Angeles\n",
      "Team Name: Shekar, Age: None, City of Residence: San Francisco\n",
      "age\n",
      "Team Name: Risa, Age: None, City of Residence: New York\n",
      "Team Name: Shekar, Age: None, City of Residence: San Francisco\n",
      "Team Name: Ryan, Age: None, City of Residence: Los Angeles\n",
      "Team Name: John, Age: None, City of Residence: Eugene\n",
      "city\n",
      "Team Name: John, Age: None, City of Residence: Eugene\n",
      "Team Name: Ryan, Age: None, City of Residence: Los Angeles\n",
      "Team Name: Risa, Age: None, City of Residence: New York\n",
      "Team Name: Shekar, Age: None, City of Residence: San Francisco\n"
     ]
    }
   ],
   "source": [
    "if __name__ == \"__main__\":\n",
    "    # list/dictionary sample\n",
    "    list_of_people = [\n",
    "    {\"name\": \"Risa\", \"age\": 18, \"city\": \"New York\"},\n",
    "    {\"name\": \"John\", \"age\": 63, \"city\": \"Eugene\"},\n",
    "    {\"name\": \"Shekar\", \"age\": 18, \"city\": \"San Francisco\"},\n",
    "    {\"name\": \"Ryan\", \"age\": 21, \"city\": \"Los Angeles\"}\n",
    "    ]\n",
    "    \n",
    "    # assuming uniform keys, pick 1st row as source of keys\n",
    "    keyrow = list_of_people[0]\n",
    "\n",
    "    # print list as defined\n",
    "    print(\"Original\")\n",
    "    print(list_of_people)\n",
    "    \n",
    "    for key in keyrow:  # finds each key in the row\n",
    "        print(key)\n",
    "        insertionSort(list_of_people, key)  # sort list of people\n",
    "        for item in list_of_people:\n",
    "            print(f\"Team Name: {item.get('name')}, Age: {item.get('Age')}, City of Residence: {item.get('city')}\")"
   ]
  },
  {
   "attachments": {},
   "cell_type": "markdown",
   "metadata": {},
   "source": [
    "### Observations\n",
    "\n",
    "I noticed from the code that obviously the code for the insertion sort appears to be shorter than the code for the bubble sort. However, there wasn't really a noticeable difference in the time it took to run the code. This can be seen because both bubble sort and insertion sort have time complexity of O^2. This is also the same as selection sort, but merge sort is O(nlogn). Merge sort would probably be much better for a larger database, like one containing data for all the NFL teams.\n",
    "\n",
    "The insertion sort works by taking an element and then checking whether it is greater than an item in the list. The algorithm checks each element and then determines where to insert the element. This is repeated until the list is in order.\n",
    "\n",
    "Given that insertion sort is O(n^2), it is fine for a small dictionary to be sorted. It would take much more time for a longer dictionary to be sorted when compared to using merge sort."
   ]
  },
  {
   "attachments": {},
   "cell_type": "markdown",
   "metadata": {},
   "source": [
    "### 2D Arrays\n",
    "\n",
    "Here is some code which I have created which utilizes 2D arrays in order to take images and piece them together. It receives a certain number of rows and columns based on user input and creates a 2D array of images based on this. It then selects random images and then combines them and displays them. \n",
    "\n",
    "The idea between this code could be to create almost a virtual postcard which users could send. It could be modified to have user inputted words and include a link to our site. This code would probably need to be modified in order to have a url to send the request and then receive the request and take in user inputs for words."
   ]
  },
  {
   "cell_type": "code",
   "execution_count": 2,
   "metadata": {},
   "outputs": [
    {
     "name": "stdout",
     "output_type": "stream",
     "text": [
      "3 rows\n",
      "3 columns\n"
     ]
    },
    {
     "data": {
      "image/png": "[encoded data removed]",
      "text/plain": [
       "<PIL.Image.Image image mode=RGB size=150x150>"
      ]
     },
     "metadata": {},
     "output_type": "display_data"
    }
   ],
   "source": [
    "from PIL import Image\n",
    "import os\n",
    "import random\n",
    "\n",
    "# Directory containing the images\n",
    "image_directory = \"../images/\"\n",
    "\n",
    "# Get a list of image files in the directory\n",
    "image_files = [f for f in os.listdir(image_directory) if os.path.isfile(os.path.join(image_directory, f))]\n",
    "\n",
    "rows = int(input(\"Enter the number of rows (1-10): \"))\n",
    "cols = int(input(\"Enter the number of columns (1-10): \"))\n",
    "\n",
    "data = [[random.choice(image_files) for j in range(cols)] for i in range(rows)]\n",
    "\n",
    "image_width = 50\n",
    "image_height = 50\n",
    "\n",
    "image = Image.new(\"RGB\", (cols * image_width, rows * image_height))\n",
    "\n",
    "for row in range(rows):\n",
    "    for col in range(cols):\n",
    "        image_file = data[row][col]\n",
    "        image_path = os.path.join(image_directory, image_file)\n",
    "        img = Image.open(image_path)\n",
    "        img = img.resize((image_width, image_height))\n",
    "        x1, y1 = col * image_width, row * image_height\n",
    "        x2, y2 = x1 + image_width, y1 + image_height\n",
    "        image.paste(img, (x1, y1, x2, y2))\n",
    "\n",
    "print(f\"{rows} rows\")\n",
    "print(f\"{cols} columns\")\n",
    "display(image)\n",
    "\n"
   ]
  },
  {
   "cell_type": "code",
   "execution_count": 8,
   "metadata": {},
   "outputs": [
    {
     "name": "stdout",
     "output_type": "stream",
     "text": [
      "Image Name: ocean, Like Count: 25\n",
      "Image Name: bird, Like Count: 13\n",
      "Image Name: sky, Like Count: 10\n",
      "Image Name: runner, Like Count: 5\n"
     ]
    }
   ],
   "source": [
    "def merge_sort(dicts):\n",
    "    if len(dicts) <= 1:\n",
    "        return dicts\n",
    "    \n",
    "    mid = len(dicts) // 2\n",
    "    left_half = dicts[:mid]\n",
    "    right_half = dicts[mid:]\n",
    "    \n",
    "    left_half = merge_sort(left_half)\n",
    "    right_half = merge_sort(right_half)\n",
    "    \n",
    "    return merge(left_half, right_half)\n",
    "\n",
    "def merge(left, right):\n",
    "    merged = []\n",
    "    i = j = 0\n",
    "    \n",
    "    while i < len(left) and j < len(right):\n",
    "        if left[i]['likes'] > right[j]['likes']:  # Compare in descending order\n",
    "            merged.append(left[i])\n",
    "            i += 1\n",
    "        else:\n",
    "            merged.append(right[j])\n",
    "            j += 1\n",
    "    \n",
    "    while i < len(left):\n",
    "        merged.append(left[i])\n",
    "        i += 1\n",
    "    \n",
    "    while j < len(right):\n",
    "        merged.append(right[j])\n",
    "        j += 1\n",
    "    \n",
    "    return merged\n",
    "\n",
    "\n",
    "# Example list of dictionaries with images and likes\n",
    "dicts = [\n",
    "    {'name': 'sky', 'image': '../sky.jpg', 'likes': 10},\n",
    "    {'name': 'ocean', 'image': '../ocean.jpg', 'likes': 25},\n",
    "    {'name': 'bird', 'image': '../bird.jpg', 'likes': 13},\n",
    "    {'name': 'runner', 'image': '../runner.jpg', 'likes': 5}\n",
    "]\n",
    "\n",
    "# Sort the list of dictionaries based on the 'likes' value using Merge Sort\n",
    "sorted_dicts = merge_sort(dicts)\n",
    "\n",
    "# Print the sorted list\n",
    "for item in sorted_dicts:\n",
    "    print(f\"Image Name: {item.get('name')}, Like Count: {item.get('likes')}\")\n"
   ]
  },
  {
   "attachments": {},
   "cell_type": "markdown",
   "metadata": {},
   "source": [
    "### How this Code can be Used\n",
    "\n",
    "This code could be used for my group's project because it uses merge sort to check the amount of likes which an image has. This makes sure to order the database to display to the order the most liked images. This algorithm could probably be changed in order to order the database in order of things like likes in decreasing order or image name. Merge sort is effective because of the lower time complexity than other sorts, which will make it efficient for the project because it has a lower run time for a larger data set. We will need to process a lot of image data, so this is why it would be important.\n",
    "\n",
    "This code would be needed to be changed in order to be able to fetch image data from a url. This will some results to be changed as it fetchs the json data."
   ]
  }
 ],
 "metadata": {
  "kernelspec": {
   "display_name": "base",
   "language": "python",
   "name": "python3"
  },
  "language_info": {
   "codemirror_mode": {
    "name": "ipython",
    "version": 3
   },
   "file_extension": ".py",
   "mimetype": "text/x-python",
   "name": "python",
   "nbconvert_exporter": "python",
   "pygments_lexer": "ipython3",
   "version": "3.9.12"
  },
  "orig_nbformat": 4
 },
 "nbformat": 4,
 "nbformat_minor": 2
}
