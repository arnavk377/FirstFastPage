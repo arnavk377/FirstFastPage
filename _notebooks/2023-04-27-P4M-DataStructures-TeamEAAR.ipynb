{
 "cells": [
  {
   "attachments": {},
   "cell_type": "markdown",
   "metadata": {},
   "source": [
    "# Data Structures Guide \n",
    "> A guide to data structures such as lists, dictionaries, 2D arrays, and iteration\n",
    "  \n",
    "- title: Data Structures Guide\n",
    "- author: Team EAAR, Ethan Tran, Alex Kumar, Advay Shindikar, Amay Advani, Rohin Sood"
   ]
  },
  {
   "attachments": {},
   "cell_type": "markdown",
   "metadata": {},
   "source": [
    "## Objectives:\n",
    "\n",
    "Students will be able to...\n",
    "- Understand the concept of data structures, including lists, dictionaries, and 2D arrays\n",
    "- Learn how to iterate through data structures using loops\n",
    "- Able to visualize data structures and iteration processes\n",
    "- Able to apply their knowledge to build simulations/interactions using lists and iteration\n",
    "- Learn how to store list and dictionary content in databases\n",
    "\n",
    "\n",
    "# Lesson 1: Lists and Iteration \n",
    "\n",
    "\n",
    "## Lists (Ethan)\n",
    "\n",
    "- Lists are a type of data structure that can store multiple items in a single variable\n",
    "- Lists are defined using square brackets [ ]\n",
    "- Each item in a list is separated by a comma\n",
    "- Lists are indexed, starting at 0 "
   ]
  },
  {
   "cell_type": "code",
   "execution_count": 15,
   "metadata": {},
   "outputs": [
    {
     "name": "stdout",
     "output_type": "stream",
     "text": [
      "['apple', 'banana', 'orange', 'grape']\n"
     ]
    }
   ],
   "source": [
    "# Example list\n",
    "fruits = [\"apple\", \"banana\", \"orange\", \"grape\"]\n",
    "print(fruits)"
   ]
  },
  {
   "attachments": {},
   "cell_type": "markdown",
   "metadata": {},
   "source": [
    "## Accessing Lists\n",
    "\n",
    "- To access individual items in a list, we use the index of the item.\n",
    "- Python uses zero-based indexing, which means the first item in the list has an index of 0, the second item has an index of 1, and so on."
   ]
  },
  {
   "cell_type": "code",
   "execution_count": 6,
   "metadata": {},
   "outputs": [
    {
     "name": "stdout",
     "output_type": "stream",
     "text": [
      "apple\n",
      "orange\n"
     ]
    }
   ],
   "source": [
    "print(fruits[0])   \n",
    "print(fruits[2]) "
   ]
  },
  {
   "attachments": {},
   "cell_type": "markdown",
   "metadata": {},
   "source": [
    "## Slicing Lists\n",
    "\n",
    "- We can also extract a specific portion of a list using slicing.\n",
    "- We use the colon : operator to specify a range of indices to include."
   ]
  },
  {
   "cell_type": "code",
   "execution_count": 23,
   "metadata": {},
   "outputs": [
    {
     "name": "stdout",
     "output_type": "stream",
     "text": [
      "['apple', 'banana']\n"
     ]
    }
   ],
   "source": [
    "print(fruits[0:2])    "
   ]
  },
  {
   "attachments": {},
   "cell_type": "markdown",
   "metadata": {},
   "source": [
    "## Modifying List Items\n",
    "\n",
    "- Lists are mutable, meaning that we can change the value of an item in a list.\n",
    "- To change the value of an item in a list, we can use the indexing operator (square brackets) to access the item and then assign a new value to it."
   ]
  },
  {
   "cell_type": "code",
   "execution_count": 25,
   "metadata": {},
   "outputs": [
    {
     "name": "stdout",
     "output_type": "stream",
     "text": [
      "['apple', 'banana', 'pear', 'grape', 'kiwi']\n"
     ]
    }
   ],
   "source": [
    "fruits[2] = \"pear\"\n",
    "print(fruits)"
   ]
  },
  {
   "attachments": {},
   "cell_type": "markdown",
   "metadata": {},
   "source": [
    "## Adding and Removing List Items\n",
    "\n",
    "> Adding\n",
    "\n",
    "- Use the append() method to add an item to the end of a list."
   ]
  },
  {
   "cell_type": "code",
   "execution_count": 26,
   "metadata": {},
   "outputs": [
    {
     "name": "stdout",
     "output_type": "stream",
     "text": [
      "['apple', 'banana', 'pear', 'grape', 'kiwi', 'kiwi']\n"
     ]
    }
   ],
   "source": [
    "fruits.append(\"kiwi\") # Adds 'kiwi' to the end of the list\n",
    "print(fruits)"
   ]
  },
  {
   "cell_type": "markdown",
   "metadata": {},
   "source": [
    "- Use the insert() method to add an item to a specific index in a list."
   ]
  },
  {
   "cell_type": "code",
   "execution_count": 27,
   "metadata": {},
   "outputs": [
    {
     "name": "stdout",
     "output_type": "stream",
     "text": [
      "['apple', 'peach', 'banana', 'pear', 'grape', 'kiwi', 'kiwi']\n"
     ]
    }
   ],
   "source": [
    "fruits.insert(1, \"peach\") # Inserts \"peach\" at index 1\n",
    "print(fruits)"
   ]
  },
  {
   "attachments": {},
   "cell_type": "markdown",
   "metadata": {},
   "source": [
    "> Removing\n",
    "\n",
    "- Use the remove() method to remove the first occurrence of an item from a list."
   ]
  },
  {
   "cell_type": "code",
   "execution_count": 28,
   "metadata": {},
   "outputs": [
    {
     "name": "stdout",
     "output_type": "stream",
     "text": [
      "['apple', 'peach', 'banana', 'grape', 'kiwi', 'kiwi']\n"
     ]
    }
   ],
   "source": [
    "fruits.remove('pear') # Removes the first occurrence of 'pear'\n",
    "print(fruits)"
   ]
  },
  {
   "attachments": {},
   "cell_type": "markdown",
   "metadata": {},
   "source": [
    "- Use the pop() method to remove the item at a specific index from a list."
   ]
  },
  {
   "cell_type": "code",
   "execution_count": 29,
   "metadata": {},
   "outputs": [
    {
     "name": "stdout",
     "output_type": "stream",
     "text": [
      "['apple', 'peach', 'grape', 'kiwi', 'kiwi']\n"
     ]
    }
   ],
   "source": [
    "fruits.pop(2) # Removes the item at index 2\n",
    "print(fruits)"
   ]
  },
  {
   "cell_type": "markdown",
   "metadata": {},
   "source": [
    "- Use the clear() method to remove all items from a list."
   ]
  },
  {
   "cell_type": "code",
   "execution_count": 30,
   "metadata": {},
   "outputs": [
    {
     "name": "stdout",
     "output_type": "stream",
     "text": [
      "[]\n"
     ]
    }
   ],
   "source": [
    "fruits.clear() # Removes all items from the list\n",
    "print(fruits)"
   ]
  },
  {
   "attachments": {},
   "cell_type": "markdown",
   "metadata": {},
   "source": [
    "## Function Explanation\n",
    "\n",
    "> InsertToList\n",
    "\n",
    "- This function is designed to insert a new item into a list at a specific index.\n",
    "- It first retrieves the new item to be added and the index at which to add it from the HTML document.\n",
    "- It checks if the retrieved values are both valid integers and if the index is within the range of the list.\n",
    "- If the values are valid, the function uses the splice() method to insert the new item into the list at the specified index. \n",
    "- In JavaScript, the splice() method modifies an array by removing, replacing, or adding elements.\n",
    "- The splice() method takes three arguments: the index at which to start changing the list, the number of elements to remove, and the new item to add. \n",
    "- The item is inserted without removing any elements, so we pass 0 as the second argument.\n",
    "- Finally, the function calls the visualizeList() function to display the updated list on the web page.\n",
    "\n",
    "```\n",
    "  // Get the value of the new item and the index where it should be inserted\n",
    "  function insertToList() {\n",
    "      let newItem = parseInt(document.getElementById(\"newItem\").value);\n",
    "      let index = parseInt(document.getElementById(\"index\").value);\n",
    "      if (!isNaN(newItem) && !isNaN(index) && index >= 0 && index <= myList.length) {\n",
    "        // splice() method to insert the new item into the list\n",
    "        myList.splice(index - 1, 0, newItem);\n",
    "        // Call the visualizeList() function to update the display of the list\n",
    "        visualizeList();\n",
    "      }\n",
    "    } ```"
   ]
  },
  {
   "attachments": {},
   "cell_type": "markdown",
   "metadata": {},
   "source": [
    "> SortList\n",
    "\n",
    "- In JavaScript, sort() is a built-in method used to sort the elements of an array in place. The default sort order is ascending, but you can also specify a descending sort order.\n",
    "- In this case, the function sorts myList in ascending order based on their numerical value.\n",
    "\n",
    "```\n",
    "  // Sort myList array in ascending order     \n",
    "  function sortList() {\n",
    "      // The function a - b is used, which subtracts the second element b from the first element a. \n",
    "      // If the result is negative, a is sorted before b. If the result is positive, b is sorted before a. If the result is zero, the order of the elements is unchanged.\n",
    "      myList.sort((a, b) => a - b);\n",
    "      visualizeList();\n",
    "    }```"
   ]
  },
  {
   "attachments": {},
   "cell_type": "markdown",
   "metadata": {},
   "source": [
    "## Applications of Lists\n",
    "\n",
    "- Data processing: Lists are commonly used to store and process large amounts of data. In data analysis and machine learning, lists are often used to store datasets.\n",
    "\n",
    "- Gaming: Lists are used extensively in game development to store game objects, player statistics, and game maps.\n",
    "\n",
    "- Finance: Lists are used in finance to store and process financial data, such as stock prices and market trends. The data from these lists can also be used to calculate financial metrics and to create financial models."
   ]
  },
  {
   "attachments": {},
   "cell_type": "markdown",
   "metadata": {},
   "source": [
    "## Hacks (0.3)\n",
    "\n",
    "- Make your own list and manipulate it via accessing specific elements, adding or removing elements, etc.\n",
    "- Extra: Make an interactable visualization that can manipulate elements in a list such as the one demonstrated in our flask repository"
   ]
  },
  {
   "attachments": {},
   "cell_type": "markdown",
   "metadata": {},
   "source": [
    "## Iteration (Alex)\n",
    "\n",
    "What is iteration?\n",
    "\n",
    "- In programming, iteration refers to the process of repeating a set of instructions until a specific condition is met. This can be achieved using loop structures like for loops and while loops.\n",
    "\n",
    "For Loops\n",
    "\n",
    "- A for loop is used to iterate over a sequence (e.g. a list, tuple, string, etc.) and execute a set of statements for each item in the sequence. Here's the basic syntax of a for loop in Python:"
   ]
  },
  {
   "cell_type": "code",
   "execution_count": 2,
   "metadata": {},
   "outputs": [
    {
     "name": "stdout",
     "output_type": "stream",
     "text": [
      "1\n",
      "2\n",
      "3\n",
      "4\n",
      "5\n",
      "6\n",
      "7\n"
     ]
    }
   ],
   "source": [
    "sequence = [1,2,3,4,5,6,7]\n",
    "for variable in sequence:\n",
    "    print(variable)"
   ]
  },
  {
   "cell_type": "code",
   "execution_count": 3,
   "metadata": {},
   "outputs": [
    {
     "name": "stdout",
     "output_type": "stream",
     "text": [
      "H\n",
      "e\n",
      "l\n",
      "l\n",
      "o\n",
      ",\n",
      " \n",
      "W\n",
      "o\n",
      "r\n",
      "l\n",
      "d\n",
      "!\n"
     ]
    }
   ],
   "source": [
    "my_string = \"Hello, World!\"\n",
    "\n",
    "for character in my_string:\n",
    "    print(character)"
   ]
  },
  {
   "cell_type": "markdown",
   "metadata": {},
   "source": [
    "While Loops A while loop is used to repeat a set of statements as long as a condition is true. Here's the basic syntax of a while loop in Python:"
   ]
  },
  {
   "cell_type": "code",
   "execution_count": 4,
   "metadata": {},
   "outputs": [
    {
     "name": "stdout",
     "output_type": "stream",
     "text": [
      "0\n",
      "1\n",
      "2\n",
      "3\n",
      "4\n"
     ]
    }
   ],
   "source": [
    "num = 0\n",
    "\n",
    "while num < 5:\n",
    "    print(num)\n",
    "    num += 1"
   ]
  },
  {
   "attachments": {},
   "cell_type": "markdown",
   "metadata": {},
   "source": [
    "## Applications of Iteration\n",
    "\n",
    "> Iteration is a fundamental concept in computer programming and is used in a variety of real-life applications. Here are some examples:\n",
    "\n",
    "Data Processing\n",
    "\n",
    "- Data processing often involves iterating over large datasets to perform specific operations on each element. For example, in a data analysis task, you might iterate over a list of numbers to compute the average, or iterate over a list of strings to find the longest string.\n",
    "\n",
    "User Interfaces\n",
    "\n",
    "- User interfaces often involve iteration to display and handle data from various sources. For example, in a web application, you might iterate over a list of users to display their information in a table. Similarly, in a desktop application, you might iterate over a list of files to display them in a file explorer.\n",
    "\n",
    "Machine Learning\n",
    "\n",
    "- Machine learning algorithms often involve iterative processes to train models and improve their accuracy. For example, in a gradient descent algorithm, you might iterate over a set of training data to update the model's parameters and minimize the loss function.\n",
    "\n",
    "## Popcorn hack (0.3)\n",
    "\n",
    "- Make a list related to your CPT project\n",
    "- Make a while loop that will print each term in the list\n",
    "- Make a for loop that will print each term in the list\n",
    "\n",
    "Simulation mechanics\n",
    "\n",
    "- In Python, pop() is a method that is used to remove and return an element from a list. The syntax for using pop() is as follows:"
   ]
  },
  {
   "cell_type": "code",
   "execution_count": 31,
   "metadata": {},
   "outputs": [
    {
     "name": "stdout",
     "output_type": "stream",
     "text": [
      "[1, 2, 3, 4, 5]\n",
      "[1, 2, 3, 4]\n",
      "[1, 3, 4]\n"
     ]
    }
   ],
   "source": [
    "my_list = [1, 2, 3, 4, 5]\n",
    "print(my_list)\n",
    "my_list.pop()\n",
    "print(my_list)\n",
    "my_list.pop(1)\n",
    "print(my_list)"
   ]
  },
  {
   "cell_type": "markdown",
   "metadata": {},
   "source": [
    "In Python, append() is a built-in method that is used to add an element to the end of a list. The syntax for using append() is as follows:"
   ]
  },
  {
   "cell_type": "code",
   "execution_count": 32,
   "metadata": {},
   "outputs": [
    {
     "name": "stdout",
     "output_type": "stream",
     "text": [
      "[1, 2, 3]\n"
     ]
    }
   ],
   "source": [
    "my_list = []\n",
    "my_list.append(1)\n",
    "my_list.append(2)\n",
    "my_list.append(3)\n",
    "print(my_list)"
   ]
  },
  {
   "attachments": {},
   "cell_type": "markdown",
   "metadata": {},
   "source": [
    "#  Dictionary Lesson / 2D Arrays\n",
    "\n",
    "## Lesson 2: Dictionary's and 2 Dimensional Arrays\n",
    "\n",
    "Advay Shindikar and Amay Advani\n",
    "\n",
    "# Objective:\n",
    "  - Understand the concept of dictionaries and how they can be applied\n",
    "  - Learn how to add, modify, and delete entries in a dictionary using the assignment operator and the del keyword\n",
    "  - Understand the concept of 2D arrays and how they can be used to store data in rows and columns\n",
    "  - Learn how to create a 2D array in Python using a nested list\n",
    "  - Understand how to access values in a 2D array using row and column indices\n",
    "  - Learn how to use indexing and slicing to access a subset of a 2D array\n",
    "\n",
    "\n",
    "-----\n",
    "\n",
    "\n",
    "````\n",
    "student = {'name': 'Advay', 'age': 16, 'Sophomore'}\n",
    "````\n",
    "\n",
    "````\n",
    "students = ['advay', 'amay', 'rohin', 'alex', 'ethan']\n",
    "````\n",
    "-----\n",
    "\n",
    "# Check In:\n",
    "\n",
    "- Of the above code segments, which is a list and which is a dictionary?\n",
    "  - The 2nd students is a list and the 1st one is a dictionary.\n",
    "- What is a dictionary and how is it used?\n",
    "  - A dictionary is a 1D array which stores key-value pairs. The keys must be unique to store values.\n",
    "- What is a 2D Array?\n",
    "  - A 2D Array is data structure which uses multiple lists to create a multi-dimensional data structure. The 2D Arrays must have rows and columns.\n",
    "- How are 2D Arrays different from 1D Arrays or Lists and what can they be used for?\n",
    "  - 2D Arrays are different from 1D Arrays or Lists because they require users to input 2 parameters to get a specific value instead of just 1. 2D Arrays can be used for things like games like Tic Tac Toe and representing matrices.\n",
    "\n",
    "## Manipulating Dictionaries"
   ]
  },
  {
   "cell_type": "code",
   "execution_count": 13,
   "metadata": {},
   "outputs": [
    {
     "name": "stdout",
     "output_type": "stream",
     "text": [
      "Your grocery list:\n",
      "- bread: $3.99\n",
      "Total cost: $3.99\n",
      "Final grocery list:\n",
      "- bread: $3.99\n",
      "Total cost: $3.99\n"
     ]
    }
   ],
   "source": [
    "grocery_dict = {}\n",
    "\n",
    "# ask the user to enter grocery items and their prices\n",
    "while True:\n",
    "    item = input(\"Enter an item for your grocery list (or 'done' to exit): \")\n",
    "    if item == \"done\":\n",
    "        break\n",
    "    else:\n",
    "        price = float(input(\"Enter the price of {}: \".format(item)))\n",
    "        grocery_dict[item] = price\n",
    "\n",
    "# print the grocery list and total cost\n",
    "total_cost = 0\n",
    "while True:\n",
    "    print(\"Your grocery list:\")\n",
    "    for item, price in grocery_dict.items():\n",
    "        print(\"- {}: ${}\".format(item, price))\n",
    "    total_cost = sum(grocery_dict.values())\n",
    "    print(\"Total cost: ${}\".format(total_cost))\n",
    "    \n",
    "    # ask the user to choose an action\n",
    "    action = input(\"What would you like to do? (add/remove/done) \")\n",
    "    \n",
    "    # add a new item to the grocery list\n",
    "    if action == \"add\":\n",
    "        item = input(\"Enter the name of the item you would like to add: \")\n",
    "        price = float(input(\"Enter the price of {}: \".format(item)))\n",
    "        grocery_dict[item] = price\n",
    "        total_cost += price\n",
    "    \n",
    "    # remove an item from the           j\n",
    "        item = input(\"Enter the name of the item you would like to remove: \")\n",
    "        if item in grocery_dict:\n",
    "            total_cost -= grocery_dict[item]\n",
    "            del grocery_dict[item]\n",
    "        else:\n",
    "            print(\"Item not found in grocery list!\")\n",
    "    \n",
    "    # exit the loop and print the final grocery list and total cost\n",
    "    elif action == \"done\":\n",
    "        break\n",
    "\n",
    "print(\"Final grocery list:\")\n",
    "for item, price in grocery_dict.items():\n",
    "    print(\"- {}: ${}\".format(item, price))\n",
    "total_cost = sum(grocery_dict.values())\n",
    "print(\"Total cost: ${}\".format(total_cost))\n"
   ]
  },
  {
   "attachments": {},
   "cell_type": "markdown",
   "metadata": {},
   "source": [
    "# Log In\n",
    "- U: arnavk\n",
    "- P: 12345678"
   ]
  },
  {
   "attachments": {},
   "cell_type": "markdown",
   "metadata": {},
   "source": [
    "# Hacks Work\n",
    "\n",
    "Here is my work for hacks\n",
    "\n",
    "## List Hacks\n",
    "Hacks for lists"
   ]
  },
  {
   "cell_type": "code",
   "execution_count": 3,
   "metadata": {},
   "outputs": [
    {
     "name": "stdout",
     "output_type": "stream",
     "text": [
      "The Original List\n",
      "['Minions: The Rise of Gru', 'The Mario Movie', 'Forrest Gump', 'Bad Guys']\n",
      "My Favorite Movie is: Minions: The Rise of Gru\n",
      "The Revised List\n",
      "['Minions: The Rise of Gru', 'Despicable Me', 'The Mario Movie', 'Forrest Gump', 'Catch Me If You Can']\n"
     ]
    }
   ],
   "source": [
    "# Original List\n",
    "faves = [\"Minions: The Rise of Gru\", \"The Mario Movie\", \"Forrest Gump\", \"Bad Guys\"]\n",
    "print(\"The Original List\")\n",
    "print(faves)\n",
    "\n",
    "# Removes last movie, which would be \"Bad Guys\"\n",
    "faves.pop()\n",
    "# Adds \"Catch Me If You Can\"\n",
    "faves.append(\"Catch Me If You Can\")\n",
    "# Prints favorite movie in list\n",
    "print(\"My Favorite Movie is:\", faves[0])\n",
    "# Inserts Despicable Me at 2nd favorite movie\n",
    "faves.insert(1, \"Despicable Me\")\n",
    "\n",
    "# Changed List\n",
    "print(\"The Revised List\")\n",
    "print(faves)"
   ]
  },
  {
   "attachments": {},
   "cell_type": "markdown",
   "metadata": {},
   "source": [
    "## Popcorn Hacks\n",
    "\n",
    "My Create Performance Task is related to NFL players.\n",
    "\n",
    "The while loop keeps on running while the value of j is less than or equal to the length of the list, qbs. Every time the while loop runs, the while loop prints out the value of the qb at the specific order of the list, so there has to be a j-1 in order to match the index numbers. Finally, 1 is added to j in order to make sure the code does not run forever. This will run and print out every value in the list.\n",
    "\n",
    "The for loop runs and prints out every value which is in the qbs list. This will print one of every variable in the list."
   ]
  },
  {
   "cell_type": "code",
   "execution_count": 8,
   "metadata": {},
   "outputs": [
    {
     "name": "stdout",
     "output_type": "stream",
     "text": [
      "Using while loop:\n",
      "Mahomes\n",
      "Burrow\n",
      "Smith\n",
      "Lawrence\n",
      "Jones\n",
      "Using for loops:\n",
      "Mahomes\n",
      "Burrow\n",
      "Smith\n",
      "Lawrence\n",
      "Jones\n"
     ]
    }
   ],
   "source": [
    "# Define List\n",
    "qbs = [\"Mahomes\", \"Burrow\", \"Smith\", \"Lawrence\", \"Jones\"]\n",
    "\n",
    "# while loop\n",
    "j = 1\n",
    "print(\"Using while loop:\")\n",
    "while j <= len(qbs):\n",
    "    print(qbs[j - 1])\n",
    "    j += 1\n",
    "\n",
    "# for loop\n",
    "print(\"Using for loops:\")\n",
    "for i in qbs:\n",
    "    print(i)"
   ]
  },
  {
   "attachments": {},
   "cell_type": "markdown",
   "metadata": {},
   "source": [
    "## Dictionary Hacks\n",
    "\n",
    "Creating a dictionary simulation. This dictionary simulation allows users to store their favorite movies in a list. I also edited the code which is above in order to fix the total cost."
   ]
  },
  {
   "cell_type": "code",
   "execution_count": 15,
   "metadata": {},
   "outputs": [
    {
     "name": "stdout",
     "output_type": "stream",
     "text": [
      "Your watched movie list:\n",
      "- Minions: 5.0/5\n",
      "- Forrest Gump: 4.5/5\n",
      "Average Rating: 4.75/5\n",
      "Final movie list:\n",
      "- Minions: 5.0\n",
      "- Forrest Gump: 4.5\n",
      "Average Rating: 4.75/5\n"
     ]
    }
   ],
   "source": [
    "movie_dict = {}\n",
    "\n",
    "while True:\n",
    "    movie = input(\"Enter an item for your movie list (or 'done' to exit): \")\n",
    "    if movie == \"done\":\n",
    "        break\n",
    "    else:\n",
    "        rating = float(input(\"Enter your rating out of 5 for the {}: \".format(movie)))\n",
    "        movie_dict[movie] = rating\n",
    "\n",
    "avg_rate = 0\n",
    "while True:\n",
    "    print(\"Your watched movie list:\")\n",
    "    for movie, rating in movie_dict.items():\n",
    "        print(\"- {}: {}/5\".format(movie, rating))\n",
    "    avg_rate = sum(movie_dict.values())/len(movie_dict)\n",
    "    print(\"Average Rating: {}/5\".format(avg_rate))\n",
    "    \n",
    "    action = input(\"What would you like to do to the dictionary? (add/remove/done) \")\n",
    "    \n",
    "    if action == \"add\":\n",
    "        movie = input(\"Enter the name of the item you would like to add: \")\n",
    "        rating = float(input(\"Enter the rating of {}: \".format(movie)))\n",
    "        movie_dict[movie] = rating\n",
    "        avg_rate += rating\n",
    "    \n",
    "        movie = input(\"Enter the name of the item you would like to remove: \")\n",
    "        if movie in movie_dict:\n",
    "            avg_rate -= movie_dict[movie]\n",
    "            del movie_dict[movie]\n",
    "        else:\n",
    "            print(\"Movie not found in!\")\n",
    "    \n",
    "    elif action == \"done\":\n",
    "        break\n",
    "\n",
    "print(\"Final movie list:\")\n",
    "for item, movie in movie_dict.items():\n",
    "    print(\"- {}: {}\".format(item, movie))\n",
    "avg_rate = sum(movie_dict.values())/len(movie_dict)\n",
    "print(\"Average Rating: {}/5\".format(avg_rate))"
   ]
  },
  {
   "attachments": {},
   "cell_type": "markdown",
   "metadata": {},
   "source": [
    "### Changes on the Website\n",
    "\n",
    "This is for altering the dictionary on the website and having a delete button."
   ]
  },
  {
   "cell_type": "code",
   "execution_count": 11,
   "metadata": {},
   "outputs": [
    {
     "data": {
      "image/png": "[encoded data removed]",
      "text/plain": [
       "<PIL.PngImagePlugin.PngImageFile image mode=RGBA size=1195x296 at 0x7FD3C113BC10>"
      ]
     },
     "metadata": {},
     "output_type": "display_data"
    }
   ],
   "source": [
    "from PIL import Image\n",
    "\n",
    "deletebtn = Image.open(\"../images/deletefor427hacks.png\")\n",
    "display(deletebtn)"
   ]
  },
  {
   "attachments": {},
   "cell_type": "markdown",
   "metadata": {},
   "source": [
    "## 2D Arrays\n",
    "\n",
    "Visualizing 2D Arrays in Python"
   ]
  },
  {
   "cell_type": "code",
   "execution_count": 27,
   "metadata": {},
   "outputs": [
    {
     "name": "stdout",
     "output_type": "stream",
     "text": [
      "5 rows\n",
      "5 columns\n"
     ]
    },
    {
     "data": {
      "image/png": "[encoded data removed]",
      "text/plain": [
       "<PIL.Image.Image image mode=RGB size=250x250 at 0x7FD3C1A07130>"
      ]
     },
     "metadata": {},
     "output_type": "display_data"
    }
   ],
   "source": [
    "from PIL import Image\n",
    "import random\n",
    "\n",
    "rows = int(input(\"Enter the number of rows (1-10): \"))\n",
    "cols = int(input(\"Enter the number of columns (1-10): \"))\n",
    "\n",
    "data = [[(random.randint(0, 255), random.randint(0, 255), random.randint(0, 255)) for j in range(cols)] for i in range(rows)]\n",
    "\n",
    "image = Image.new(\"RGB\", (cols * 50, rows * 50))\n",
    "\n",
    "for row in range(rows):\n",
    "    for col in range(cols):\n",
    "        color = data[row][col]\n",
    "        x1, y1 = col * 50, row * 50\n",
    "        x2, y2 = x1 + 50, y1 + 50\n",
    "        image.paste(color, (x1, y1, x2, y2))\n",
    "\n",
    "print(f\"{rows} rows\")\n",
    "print(f\"{cols} columns\")\n",
    "display(image)\n"
   ]
  }
 ],
 "metadata": {
  "kernelspec": {
   "display_name": "Python 3",
   "language": "python",
   "name": "python3"
  },
  "language_info": {
   "codemirror_mode": {
    "name": "ipython",
    "version": 3
   },
   "file_extension": ".py",
   "mimetype": "text/x-python",
   "name": "python",
   "nbconvert_exporter": "python",
   "pygments_lexer": "ipython3",
   "version": "3.9.12"
  },
  "orig_nbformat": 4
 },
 "nbformat": 4,
 "nbformat_minor": 2
}
